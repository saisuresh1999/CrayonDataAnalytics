{
  "nbformat": 4,
  "nbformat_minor": 0,
  "metadata": {
    "colab": {
      "name": "Untitled6.ipynb",
      "provenance": [],
      "collapsed_sections": [],
      "include_colab_link": true
    },
    "kernelspec": {
      "name": "python3",
      "display_name": "Python 3"
    },
    "accelerator": "GPU"
  },
  "cells": [
    {
      "cell_type": "markdown",
      "metadata": {
        "id": "view-in-github",
        "colab_type": "text"
      },
      "source": [
        "<a href=\"https://colab.research.google.com/github/saisuresh1999/CrayonDataAnalytics/blob/master/Updated.ipynb\" target=\"_parent\"><img src=\"https://colab.research.google.com/assets/colab-badge.svg\" alt=\"Open In Colab\"/></a>"
      ]
    },
    {
      "cell_type": "code",
      "metadata": {
        "id": "JAGAeWQl4zqR",
        "colab_type": "code",
        "colab": {}
      },
      "source": [
        ""
      ],
      "execution_count": 0,
      "outputs": []
    },
    {
      "cell_type": "code",
      "metadata": {
        "id": "VOUI0Gvq-tPO",
        "colab_type": "code",
        "colab": {
          "base_uri": "https://localhost:8080/",
          "height": 122
        },
        "outputId": "3ca5184e-232f-4739-d901-b2d0de6536b6"
      },
      "source": [
        "from google.colab import drive\n",
        "drive.mount('/content/drive')"
      ],
      "execution_count": 9,
      "outputs": [
        {
          "output_type": "stream",
          "text": [
            "Go to this URL in a browser: https://accounts.google.com/o/oauth2/auth?client_id=947318989803-6bn6qk8qdgf4n4g3pfee6491hc0brc4i.apps.googleusercontent.com&redirect_uri=urn%3aietf%3awg%3aoauth%3a2.0%3aoob&response_type=code&scope=email%20https%3a%2f%2fwww.googleapis.com%2fauth%2fdocs.test%20https%3a%2f%2fwww.googleapis.com%2fauth%2fdrive%20https%3a%2f%2fwww.googleapis.com%2fauth%2fdrive.photos.readonly%20https%3a%2f%2fwww.googleapis.com%2fauth%2fpeopleapi.readonly\n",
            "\n",
            "Enter your authorization code:\n",
            "··········\n",
            "Mounted at /content/drive\n"
          ],
          "name": "stdout"
        }
      ]
    },
    {
      "cell_type": "code",
      "metadata": {
        "id": "_F5N06iT_KUf",
        "colab_type": "code",
        "colab": {}
      },
      "source": [
        "import pandas as pd\n",
        "import numpy as np\n",
        "import matplotlib.pyplot as plt\n",
        "\n"
      ],
      "execution_count": 0,
      "outputs": []
    },
    {
      "cell_type": "code",
      "metadata": {
        "id": "n60cubK2_VLH",
        "colab_type": "code",
        "colab": {}
      },
      "source": [
        "data=pd.read_csv(\"/content/drive/My Drive/transaction/transaction.csv\")\n"
      ],
      "execution_count": 0,
      "outputs": []
    },
    {
      "cell_type": "code",
      "metadata": {
        "id": "FjjCNenR_ax8",
        "colab_type": "code",
        "colab": {
          "base_uri": "https://localhost:8080/",
          "height": 289
        },
        "outputId": "c011e6ea-a65b-410c-95d8-752c2eb5be0b"
      },
      "source": [
        "data.head()"
      ],
      "execution_count": 43,
      "outputs": [
        {
          "output_type": "execute_result",
          "data": {
            "text/html": [
              "<div>\n",
              "<style scoped>\n",
              "    .dataframe tbody tr th:only-of-type {\n",
              "        vertical-align: middle;\n",
              "    }\n",
              "\n",
              "    .dataframe tbody tr th {\n",
              "        vertical-align: top;\n",
              "    }\n",
              "\n",
              "    .dataframe thead th {\n",
              "        text-align: right;\n",
              "    }\n",
              "</style>\n",
              "<table border=\"1\" class=\"dataframe\">\n",
              "  <thead>\n",
              "    <tr style=\"text-align: right;\">\n",
              "      <th></th>\n",
              "      <th>customer_id</th>\n",
              "      <th>tran_id</th>\n",
              "      <th>tran_date</th>\n",
              "      <th>tran_amount</th>\n",
              "      <th>merchant_name</th>\n",
              "      <th>merchant_country</th>\n",
              "      <th>merchant_city</th>\n",
              "      <th>mcc_code</th>\n",
              "      <th>card_id</th>\n",
              "    </tr>\n",
              "  </thead>\n",
              "  <tbody>\n",
              "    <tr>\n",
              "      <th>0</th>\n",
              "      <td>00015fc4-6fdc-4120-be42-a49e8bbe8cce</td>\n",
              "      <td>2063451</td>\n",
              "      <td>2019-03-20T00:00:00.000Z</td>\n",
              "      <td>31.25</td>\n",
              "      <td>The Jungle Terrace</td>\n",
              "      <td>india</td>\n",
              "      <td>bengaluru</td>\n",
              "      <td>5811</td>\n",
              "      <td>97c17dcc-4db8-4cb2-934d-a490ae51e1c7</td>\n",
              "    </tr>\n",
              "    <tr>\n",
              "      <th>1</th>\n",
              "      <td>00015fc4-6fdc-4120-be42-a49e8bbe8cce</td>\n",
              "      <td>3641896</td>\n",
              "      <td>2019-05-03T00:00:00.000Z</td>\n",
              "      <td>30.00</td>\n",
              "      <td>The Roost - Urban Bistro And Bar</td>\n",
              "      <td>india</td>\n",
              "      <td>delhi</td>\n",
              "      <td>5811</td>\n",
              "      <td>97c17dcc-4db8-4cb2-934d-a490ae51e1c7</td>\n",
              "    </tr>\n",
              "    <tr>\n",
              "      <th>2</th>\n",
              "      <td>00015fc4-6fdc-4120-be42-a49e8bbe8cce</td>\n",
              "      <td>9057797</td>\n",
              "      <td>2019-06-22T00:00:00.000Z</td>\n",
              "      <td>29.17</td>\n",
              "      <td>China Bowl</td>\n",
              "      <td>india</td>\n",
              "      <td>bengaluru</td>\n",
              "      <td>1004</td>\n",
              "      <td>97c17dcc-4db8-4cb2-934d-a490ae51e1c7</td>\n",
              "    </tr>\n",
              "    <tr>\n",
              "      <th>3</th>\n",
              "      <td>00015fc4-6fdc-4120-be42-a49e8bbe8cce</td>\n",
              "      <td>1693757</td>\n",
              "      <td>2019-07-22T00:00:00.000Z</td>\n",
              "      <td>21.67</td>\n",
              "      <td>87 - Premier Inn</td>\n",
              "      <td>india</td>\n",
              "      <td>bengaluru</td>\n",
              "      <td>1004</td>\n",
              "      <td>97c17dcc-4db8-4cb2-934d-a490ae51e1c7</td>\n",
              "    </tr>\n",
              "    <tr>\n",
              "      <th>4</th>\n",
              "      <td>00015fc4-6fdc-4120-be42-a49e8bbe8cce</td>\n",
              "      <td>9637311</td>\n",
              "      <td>2019-03-25T00:00:00.000Z</td>\n",
              "      <td>27.92</td>\n",
              "      <td>Empire Restaurant</td>\n",
              "      <td>india</td>\n",
              "      <td>bengaluru</td>\n",
              "      <td>1004</td>\n",
              "      <td>97c17dcc-4db8-4cb2-934d-a490ae51e1c7</td>\n",
              "    </tr>\n",
              "  </tbody>\n",
              "</table>\n",
              "</div>"
            ],
            "text/plain": [
              "                            customer_id  ...                               card_id\n",
              "0  00015fc4-6fdc-4120-be42-a49e8bbe8cce  ...  97c17dcc-4db8-4cb2-934d-a490ae51e1c7\n",
              "1  00015fc4-6fdc-4120-be42-a49e8bbe8cce  ...  97c17dcc-4db8-4cb2-934d-a490ae51e1c7\n",
              "2  00015fc4-6fdc-4120-be42-a49e8bbe8cce  ...  97c17dcc-4db8-4cb2-934d-a490ae51e1c7\n",
              "3  00015fc4-6fdc-4120-be42-a49e8bbe8cce  ...  97c17dcc-4db8-4cb2-934d-a490ae51e1c7\n",
              "4  00015fc4-6fdc-4120-be42-a49e8bbe8cce  ...  97c17dcc-4db8-4cb2-934d-a490ae51e1c7\n",
              "\n",
              "[5 rows x 9 columns]"
            ]
          },
          "metadata": {
            "tags": []
          },
          "execution_count": 43
        }
      ]
    },
    {
      "cell_type": "code",
      "metadata": {
        "id": "Nth83GlP_re2",
        "colab_type": "code",
        "colab": {}
      },
      "source": [
        "X=data.loc[data['customer_id'] == '0019acea-38df-4de4-8b01-3b6dcf048f45', 'tran_amount']"
      ],
      "execution_count": 0,
      "outputs": []
    },
    {
      "cell_type": "code",
      "metadata": {
        "id": "fO8TDniSBlQO",
        "colab_type": "code",
        "colab": {
          "base_uri": "https://localhost:8080/",
          "height": 221
        },
        "outputId": "2de37179-5e16-4751-ef66-07cc9d26e49e"
      },
      "source": [
        "X"
      ],
      "execution_count": 50,
      "outputs": [
        {
          "output_type": "execute_result",
          "data": {
            "text/plain": [
              "68      50.00\n",
              "69     402.00\n",
              "70      47.50\n",
              "71      50.83\n",
              "72      55.42\n",
              "        ...  \n",
              "156    393.00\n",
              "157     48.33\n",
              "158     59.58\n",
              "159    420.00\n",
              "160     52.92\n",
              "Name: tran_amount, Length: 93, dtype: float64"
            ]
          },
          "metadata": {
            "tags": []
          },
          "execution_count": 50
        }
      ]
    },
    {
      "cell_type": "code",
      "metadata": {
        "id": "ltnCDk3KBqtO",
        "colab_type": "code",
        "colab": {}
      },
      "source": [
        "Y=data.loc[data['customer_id'] == '0019acea-38df-4de4-8b01-3b6dcf048f45', 'tran_date']"
      ],
      "execution_count": 0,
      "outputs": []
    },
    {
      "cell_type": "code",
      "metadata": {
        "id": "mMAfoGcGB17a",
        "colab_type": "code",
        "colab": {
          "base_uri": "https://localhost:8080/",
          "height": 221
        },
        "outputId": "c2a819c6-d2f9-45bf-8020-0662ee5529ef"
      },
      "source": [
        "Y"
      ],
      "execution_count": 59,
      "outputs": [
        {
          "output_type": "execute_result",
          "data": {
            "text/plain": [
              "68     2019-05-02T00:00:00.000Z\n",
              "69     2019-11-04T00:00:00.000Z\n",
              "70     2019-04-27T00:00:00.000Z\n",
              "71     2019-05-23T00:00:00.000Z\n",
              "72     2019-09-07T00:00:00.000Z\n",
              "                 ...           \n",
              "156    2019-07-31T00:00:00.000Z\n",
              "157    2019-01-10T00:00:00.000Z\n",
              "158    2019-11-15T00:00:00.000Z\n",
              "159    2019-07-05T00:00:00.000Z\n",
              "160    2019-06-20T00:00:00.000Z\n",
              "Name: tran_date, Length: 93, dtype: object"
            ]
          },
          "metadata": {
            "tags": []
          },
          "execution_count": 59
        }
      ]
    },
    {
      "cell_type": "code",
      "metadata": {
        "id": "IDpZhZ3xB32D",
        "colab_type": "code",
        "colab": {
          "base_uri": "https://localhost:8080/",
          "height": 1000
        },
        "outputId": "2b133685-f902-40af-beea-73d9c245f054"
      },
      "source": [
        "X.to_list()"
      ],
      "execution_count": 54,
      "outputs": [
        {
          "output_type": "execute_result",
          "data": {
            "text/plain": [
              "[50.0,\n",
              " 402.0,\n",
              " 47.5,\n",
              " 50.83,\n",
              " 55.42,\n",
              " 48.33,\n",
              " 60.0,\n",
              " 50.83,\n",
              " 51.67,\n",
              " 49.17,\n",
              " 50.0,\n",
              " 51.67,\n",
              " 49.58,\n",
              " 50.0,\n",
              " 52.92,\n",
              " 403.0,\n",
              " 53.33,\n",
              " 436.0,\n",
              " 49.17,\n",
              " 46.67,\n",
              " 422.0,\n",
              " 51.25,\n",
              " 388.0,\n",
              " 59.17,\n",
              " 52.08,\n",
              " 52.08,\n",
              " 48.75,\n",
              " 51.67,\n",
              " 56.25,\n",
              " 52.5,\n",
              " 59.17,\n",
              " 389.0,\n",
              " 68.33,\n",
              " 50.42,\n",
              " 53.75,\n",
              " 50.83,\n",
              " 406.0,\n",
              " 390.0,\n",
              " 54.17,\n",
              " 52.5,\n",
              " 50.42,\n",
              " 431.0,\n",
              " 392.0,\n",
              " 398.0,\n",
              " 52.92,\n",
              " 60.83,\n",
              " 49.58,\n",
              " 56.25,\n",
              " 61.25,\n",
              " 54.17,\n",
              " 52.92,\n",
              " 47.08,\n",
              " 422.0,\n",
              " 65.83,\n",
              " 46.67,\n",
              " 46.25,\n",
              " 411.0,\n",
              " 55.0,\n",
              " 410.0,\n",
              " 51.67,\n",
              " 55.0,\n",
              " 396.0,\n",
              " 49.58,\n",
              " 48.75,\n",
              " 57.08,\n",
              " 47.5,\n",
              " 48.33,\n",
              " 40.83,\n",
              " 59.17,\n",
              " 415.0,\n",
              " 364.0,\n",
              " 50.83,\n",
              " 52.08,\n",
              " 57.5,\n",
              " 56.67,\n",
              " 61.25,\n",
              " 47.92,\n",
              " 60.83,\n",
              " 379.0,\n",
              " 48.33,\n",
              " 58.33,\n",
              " 51.25,\n",
              " 60.83,\n",
              " 55.0,\n",
              " 425.0,\n",
              " 40.0,\n",
              " 47.5,\n",
              " 452.0,\n",
              " 393.0,\n",
              " 48.33,\n",
              " 59.58,\n",
              " 420.0,\n",
              " 52.92]"
            ]
          },
          "metadata": {
            "tags": []
          },
          "execution_count": 54
        }
      ]
    },
    {
      "cell_type": "code",
      "metadata": {
        "id": "Uh8WxlkhD3RV",
        "colab_type": "code",
        "colab": {
          "base_uri": "https://localhost:8080/",
          "height": 1000
        },
        "outputId": "51fc1eed-6072-4a2d-82f8-d459cb151f6b"
      },
      "source": [
        "Y.to_list()"
      ],
      "execution_count": 92,
      "outputs": [
        {
          "output_type": "execute_result",
          "data": {
            "text/plain": [
              "['2019-05-02T00:00:00.000Z',\n",
              " '2019-11-04T00:00:00.000Z',\n",
              " '2019-04-27T00:00:00.000Z',\n",
              " '2019-05-23T00:00:00.000Z',\n",
              " '2019-09-07T00:00:00.000Z',\n",
              " '2019-03-26T00:00:00.000Z',\n",
              " '2019-10-04T00:00:00.000Z',\n",
              " '2019-02-27T00:00:00.000Z',\n",
              " '2019-03-25T00:00:00.000Z',\n",
              " '2019-04-12T00:00:00.000Z',\n",
              " '2019-10-20T00:00:00.000Z',\n",
              " '2019-03-14T00:00:00.000Z',\n",
              " '2019-02-25T00:00:00.000Z',\n",
              " '2019-10-18T00:00:00.000Z',\n",
              " '2019-02-03T00:00:00.000Z',\n",
              " '2019-07-11T00:00:00.000Z',\n",
              " '2019-02-06T00:00:00.000Z',\n",
              " '2019-08-06T00:00:00.000Z',\n",
              " '2019-10-27T00:00:00.000Z',\n",
              " '2019-02-11T00:00:00.000Z',\n",
              " '2019-11-24T00:00:00.000Z',\n",
              " '2019-02-09T00:00:00.000Z',\n",
              " '2019-08-13T00:00:00.000Z',\n",
              " '2019-03-13T00:00:00.000Z',\n",
              " '2019-09-12T00:00:00.000Z',\n",
              " '2019-10-25T00:00:00.000Z',\n",
              " '2019-11-07T00:00:00.000Z',\n",
              " '2019-01-30T00:00:00.000Z',\n",
              " '2019-09-18T00:00:00.000Z',\n",
              " '2019-03-10T00:00:00.000Z',\n",
              " '2019-03-18T00:00:00.000Z',\n",
              " '2019-11-01T00:00:00.000Z',\n",
              " '2019-05-31T00:00:00.000Z',\n",
              " '2019-10-19T00:00:00.000Z',\n",
              " '2019-10-26T00:00:00.000Z',\n",
              " '2019-03-09T00:00:00.000Z',\n",
              " '2019-11-15T00:00:00.000Z',\n",
              " '2019-11-11T00:00:00.000Z',\n",
              " '2019-06-03T00:00:00.000Z',\n",
              " '2019-01-20T00:00:00.000Z',\n",
              " '2019-09-17T00:00:00.000Z',\n",
              " '2019-07-20T00:00:00.000Z',\n",
              " '2019-08-05T00:00:00.000Z',\n",
              " '2019-11-29T00:00:00.000Z',\n",
              " '2019-11-12T00:00:00.000Z',\n",
              " '2019-06-24T00:00:00.000Z',\n",
              " '2019-05-03T00:00:00.000Z',\n",
              " '2019-09-14T00:00:00.000Z',\n",
              " '2019-11-22T00:00:00.000Z',\n",
              " '2019-06-18T00:00:00.000Z',\n",
              " '2019-09-02T00:00:00.000Z',\n",
              " '2019-11-05T00:00:00.000Z',\n",
              " '2019-11-28T00:00:00.000Z',\n",
              " '2019-01-18T00:00:00.000Z',\n",
              " '2019-03-31T00:00:00.000Z',\n",
              " '2019-11-27T00:00:00.000Z',\n",
              " '2019-07-11T00:00:00.000Z',\n",
              " '2019-04-06T00:00:00.000Z',\n",
              " '2019-08-31T00:00:00.000Z',\n",
              " '2019-11-10T00:00:00.000Z',\n",
              " '2019-03-17T00:00:00.000Z',\n",
              " '2019-11-13T00:00:00.000Z',\n",
              " '2019-06-25T00:00:00.000Z',\n",
              " '2019-05-07T00:00:00.000Z',\n",
              " '2019-04-04T00:00:00.000Z',\n",
              " '2019-11-16T00:00:00.000Z',\n",
              " '2019-05-02T00:00:00.000Z',\n",
              " '2019-10-15T00:00:00.000Z',\n",
              " '2019-05-21T00:00:00.000Z',\n",
              " '2019-11-08T00:00:00.000Z',\n",
              " '2019-11-14T00:00:00.000Z',\n",
              " '2019-11-10T00:00:00.000Z',\n",
              " '2019-05-07T00:00:00.000Z',\n",
              " '2019-11-11T00:00:00.000Z',\n",
              " '2019-09-29T00:00:00.000Z',\n",
              " '2019-03-08T00:00:00.000Z',\n",
              " '2019-01-03T00:00:00.000Z',\n",
              " '2019-06-24T00:00:00.000Z',\n",
              " '2019-08-25T00:00:00.000Z',\n",
              " '2019-06-14T00:00:00.000Z',\n",
              " '2019-05-16T00:00:00.000Z',\n",
              " '2019-10-22T00:00:00.000Z',\n",
              " '2019-02-19T00:00:00.000Z',\n",
              " '2019-10-16T00:00:00.000Z',\n",
              " '2019-11-17T00:00:00.000Z',\n",
              " '2019-04-30T00:00:00.000Z',\n",
              " '2019-10-19T00:00:00.000Z',\n",
              " '2019-11-20T00:00:00.000Z',\n",
              " '2019-07-31T00:00:00.000Z',\n",
              " '2019-01-10T00:00:00.000Z',\n",
              " '2019-11-15T00:00:00.000Z',\n",
              " '2019-07-05T00:00:00.000Z',\n",
              " '2019-06-20T00:00:00.000Z']"
            ]
          },
          "metadata": {
            "tags": []
          },
          "execution_count": 92
        }
      ]
    },
    {
      "cell_type": "code",
      "metadata": {
        "id": "RhBztq4CD6KX",
        "colab_type": "code",
        "colab": {}
      },
      "source": [
        "X_sorted = [i for _,i in sorted(zip(Y,X))]\n",
        "Y_sorted=sorted(Y) "
      ],
      "execution_count": 0,
      "outputs": []
    },
    {
      "cell_type": "code",
      "metadata": {
        "id": "N5pkVOshEmVp",
        "colab_type": "code",
        "colab": {
          "base_uri": "https://localhost:8080/",
          "height": 1000
        },
        "outputId": "1da0a905-586e-49b4-a002-40b20000a33f"
      },
      "source": [
        "X_sorted"
      ],
      "execution_count": 94,
      "outputs": [
        {
          "output_type": "execute_result",
          "data": {
            "text/plain": [
              "[47.92,\n",
              " 48.33,\n",
              " 65.83,\n",
              " 52.5,\n",
              " 51.67,\n",
              " 52.92,\n",
              " 53.33,\n",
              " 51.25,\n",
              " 46.67,\n",
              " 60.83,\n",
              " 49.58,\n",
              " 50.83,\n",
              " 61.25,\n",
              " 50.83,\n",
              " 52.5,\n",
              " 59.17,\n",
              " 51.67,\n",
              " 55.0,\n",
              " 59.17,\n",
              " 51.67,\n",
              " 48.33,\n",
              " 46.67,\n",
              " 57.08,\n",
              " 55.0,\n",
              " 49.17,\n",
              " 47.5,\n",
              " 40.0,\n",
              " 48.33,\n",
              " 50.0,\n",
              " 49.58,\n",
              " 48.75,\n",
              " 52.08,\n",
              " 58.33,\n",
              " 59.17,\n",
              " 50.83,\n",
              " 68.33,\n",
              " 54.17,\n",
              " 48.33,\n",
              " 54.17,\n",
              " 52.92,\n",
              " 60.83,\n",
              " 60.83,\n",
              " 49.58,\n",
              " 420.0,\n",
              " 403.0,\n",
              " 411.0,\n",
              " 431.0,\n",
              " 393.0,\n",
              " 392.0,\n",
              " 436.0,\n",
              " 388.0,\n",
              " 379.0,\n",
              " 410.0,\n",
              " 52.92,\n",
              " 55.42,\n",
              " 52.08,\n",
              " 56.25,\n",
              " 50.42,\n",
              " 56.25,\n",
              " 56.67,\n",
              " 60.0,\n",
              " 40.83,\n",
              " 55.0,\n",
              " 50.0,\n",
              " 47.5,\n",
              " 50.42,\n",
              " 50.0,\n",
              " 51.25,\n",
              " 52.08,\n",
              " 53.75,\n",
              " 49.17,\n",
              " 389.0,\n",
              " 402.0,\n",
              " 47.08,\n",
              " 48.75,\n",
              " 415.0,\n",
              " 50.83,\n",
              " 51.67,\n",
              " 57.5,\n",
              " 390.0,\n",
              " 52.92,\n",
              " 396.0,\n",
              " 364.0,\n",
              " 59.58,\n",
              " 406.0,\n",
              " 47.5,\n",
              " 425.0,\n",
              " 452.0,\n",
              " 61.25,\n",
              " 422.0,\n",
              " 46.25,\n",
              " 422.0,\n",
              " 398.0]"
            ]
          },
          "metadata": {
            "tags": []
          },
          "execution_count": 94
        }
      ]
    },
    {
      "cell_type": "code",
      "metadata": {
        "id": "SXpU4R70JyxJ",
        "colab_type": "code",
        "colab": {
          "base_uri": "https://localhost:8080/",
          "height": 1000
        },
        "outputId": "4df92219-b0dd-4e6d-814b-69773e314a80"
      },
      "source": [
        "Y_sorted"
      ],
      "execution_count": 95,
      "outputs": [
        {
          "output_type": "execute_result",
          "data": {
            "text/plain": [
              "['2019-01-03T00:00:00.000Z',\n",
              " '2019-01-10T00:00:00.000Z',\n",
              " '2019-01-18T00:00:00.000Z',\n",
              " '2019-01-20T00:00:00.000Z',\n",
              " '2019-01-30T00:00:00.000Z',\n",
              " '2019-02-03T00:00:00.000Z',\n",
              " '2019-02-06T00:00:00.000Z',\n",
              " '2019-02-09T00:00:00.000Z',\n",
              " '2019-02-11T00:00:00.000Z',\n",
              " '2019-02-19T00:00:00.000Z',\n",
              " '2019-02-25T00:00:00.000Z',\n",
              " '2019-02-27T00:00:00.000Z',\n",
              " '2019-03-08T00:00:00.000Z',\n",
              " '2019-03-09T00:00:00.000Z',\n",
              " '2019-03-10T00:00:00.000Z',\n",
              " '2019-03-13T00:00:00.000Z',\n",
              " '2019-03-14T00:00:00.000Z',\n",
              " '2019-03-17T00:00:00.000Z',\n",
              " '2019-03-18T00:00:00.000Z',\n",
              " '2019-03-25T00:00:00.000Z',\n",
              " '2019-03-26T00:00:00.000Z',\n",
              " '2019-03-31T00:00:00.000Z',\n",
              " '2019-04-04T00:00:00.000Z',\n",
              " '2019-04-06T00:00:00.000Z',\n",
              " '2019-04-12T00:00:00.000Z',\n",
              " '2019-04-27T00:00:00.000Z',\n",
              " '2019-04-30T00:00:00.000Z',\n",
              " '2019-05-02T00:00:00.000Z',\n",
              " '2019-05-02T00:00:00.000Z',\n",
              " '2019-05-03T00:00:00.000Z',\n",
              " '2019-05-07T00:00:00.000Z',\n",
              " '2019-05-07T00:00:00.000Z',\n",
              " '2019-05-16T00:00:00.000Z',\n",
              " '2019-05-21T00:00:00.000Z',\n",
              " '2019-05-23T00:00:00.000Z',\n",
              " '2019-05-31T00:00:00.000Z',\n",
              " '2019-06-03T00:00:00.000Z',\n",
              " '2019-06-14T00:00:00.000Z',\n",
              " '2019-06-18T00:00:00.000Z',\n",
              " '2019-06-20T00:00:00.000Z',\n",
              " '2019-06-24T00:00:00.000Z',\n",
              " '2019-06-24T00:00:00.000Z',\n",
              " '2019-06-25T00:00:00.000Z',\n",
              " '2019-07-05T00:00:00.000Z',\n",
              " '2019-07-11T00:00:00.000Z',\n",
              " '2019-07-11T00:00:00.000Z',\n",
              " '2019-07-20T00:00:00.000Z',\n",
              " '2019-07-31T00:00:00.000Z',\n",
              " '2019-08-05T00:00:00.000Z',\n",
              " '2019-08-06T00:00:00.000Z',\n",
              " '2019-08-13T00:00:00.000Z',\n",
              " '2019-08-25T00:00:00.000Z',\n",
              " '2019-08-31T00:00:00.000Z',\n",
              " '2019-09-02T00:00:00.000Z',\n",
              " '2019-09-07T00:00:00.000Z',\n",
              " '2019-09-12T00:00:00.000Z',\n",
              " '2019-09-14T00:00:00.000Z',\n",
              " '2019-09-17T00:00:00.000Z',\n",
              " '2019-09-18T00:00:00.000Z',\n",
              " '2019-09-29T00:00:00.000Z',\n",
              " '2019-10-04T00:00:00.000Z',\n",
              " '2019-10-15T00:00:00.000Z',\n",
              " '2019-10-16T00:00:00.000Z',\n",
              " '2019-10-18T00:00:00.000Z',\n",
              " '2019-10-19T00:00:00.000Z',\n",
              " '2019-10-19T00:00:00.000Z',\n",
              " '2019-10-20T00:00:00.000Z',\n",
              " '2019-10-22T00:00:00.000Z',\n",
              " '2019-10-25T00:00:00.000Z',\n",
              " '2019-10-26T00:00:00.000Z',\n",
              " '2019-10-27T00:00:00.000Z',\n",
              " '2019-11-01T00:00:00.000Z',\n",
              " '2019-11-04T00:00:00.000Z',\n",
              " '2019-11-05T00:00:00.000Z',\n",
              " '2019-11-07T00:00:00.000Z',\n",
              " '2019-11-08T00:00:00.000Z',\n",
              " '2019-11-10T00:00:00.000Z',\n",
              " '2019-11-10T00:00:00.000Z',\n",
              " '2019-11-11T00:00:00.000Z',\n",
              " '2019-11-11T00:00:00.000Z',\n",
              " '2019-11-12T00:00:00.000Z',\n",
              " '2019-11-13T00:00:00.000Z',\n",
              " '2019-11-14T00:00:00.000Z',\n",
              " '2019-11-15T00:00:00.000Z',\n",
              " '2019-11-15T00:00:00.000Z',\n",
              " '2019-11-16T00:00:00.000Z',\n",
              " '2019-11-17T00:00:00.000Z',\n",
              " '2019-11-20T00:00:00.000Z',\n",
              " '2019-11-22T00:00:00.000Z',\n",
              " '2019-11-24T00:00:00.000Z',\n",
              " '2019-11-27T00:00:00.000Z',\n",
              " '2019-11-28T00:00:00.000Z',\n",
              " '2019-11-29T00:00:00.000Z']"
            ]
          },
          "metadata": {
            "tags": []
          },
          "execution_count": 95
        }
      ]
    },
    {
      "cell_type": "code",
      "metadata": {
        "id": "RMuvecIwQ6vY",
        "colab_type": "code",
        "colab": {
          "base_uri": "https://localhost:8080/",
          "height": 34
        },
        "outputId": "cf261867-1325-4d62-b797-763c17f71e27"
      },
      "source": [
        "Y_sorted[0][8:10]\n"
      ],
      "execution_count": 97,
      "outputs": [
        {
          "output_type": "execute_result",
          "data": {
            "text/plain": [
              "'03'"
            ]
          },
          "metadata": {
            "tags": []
          },
          "execution_count": 97
        }
      ]
    },
    {
      "cell_type": "code",
      "metadata": {
        "id": "nLTnuhiLLfl1",
        "colab_type": "code",
        "colab": {}
      },
      "source": [
        "month=['Jan','Feb','Mar','Apr','May','Jun','Jul','Aug','Sept','Oct','Nov','Dec']\n",
        "for i in range(len(Y_sorted)):\n",
        "  if Y_sorted[i][5:7]=='01':\n",
        "    Y_sorted[i]=month[0]+ ' ' +Y_sorted[i][8:10]\n",
        "  elif Y_sorted[i][5:7]=='02':\n",
        "    Y_sorted[i]=month[1]+ ' ' +Y_sorted[i][8:10]\n",
        "  elif Y_sorted[i][5:7]=='03':\n",
        "    Y_sorted[i]=month[2]+ ' ' +Y_sorted[i][8:10]\n",
        "  elif Y_sorted[i][5:7]=='04':\n",
        "    Y_sorted[i]=month[3]+ ' ' +Y_sorted[i][8:10]\n",
        "  elif Y_sorted[i][5:7]=='05':\n",
        "    Y_sorted[i]=month[4]+ ' ' +Y_sorted[i][8:10]\n",
        "  elif Y_sorted[i][5:7]=='06':\n",
        "    Y_sorted[i]=month[5]+ ' ' +Y_sorted[i][8:10]\n",
        "  elif Y_sorted[i][5:7]=='07':\n",
        "    Y_sorted[i]=month[6]+ ' ' +Y_sorted[i][8:10]\n",
        "  elif Y_sorted[i][5:7]=='08':\n",
        "    Y_sorted[i]=month[7]+ ' ' +Y_sorted[i][8:10]\n",
        "  elif Y_sorted[i][5:7]=='09':\n",
        "    Y_sorted[i]=month[8]+ ' ' +Y_sorted[i][8:10]\n",
        "  elif Y_sorted[i][5:7]=='10':\n",
        "    Y_sorted[i]=month[9]+ ' ' +Y_sorted[i][8:10]\n",
        "  elif Y_sorted[i][5:7]=='11':\n",
        "    Y_sorted[i]=month[10]+ ' ' +Y_sorted[i][8:10]\n",
        "  elif Y_sorted[i][5:7]=='12':\n",
        "    Y_sorted[i]=month[11]+ ' ' +Y_sorted[i][8:10]\n",
        "\n",
        "\n"
      ],
      "execution_count": 0,
      "outputs": []
    },
    {
      "cell_type": "code",
      "metadata": {
        "id": "hWEsu5CVPzwl",
        "colab_type": "code",
        "colab": {
          "base_uri": "https://localhost:8080/",
          "height": 1000
        },
        "outputId": "3b207a94-02f5-47f9-d84a-e2d369c74c5d"
      },
      "source": [
        "Y_sorted"
      ],
      "execution_count": 99,
      "outputs": [
        {
          "output_type": "execute_result",
          "data": {
            "text/plain": [
              "['Jan 03',\n",
              " 'Jan 10',\n",
              " 'Jan 18',\n",
              " 'Jan 20',\n",
              " 'Jan 30',\n",
              " 'Feb 03',\n",
              " 'Feb 06',\n",
              " 'Feb 09',\n",
              " 'Feb 11',\n",
              " 'Feb 19',\n",
              " 'Feb 25',\n",
              " 'Feb 27',\n",
              " 'Mar 08',\n",
              " 'Mar 09',\n",
              " 'Mar 10',\n",
              " 'Mar 13',\n",
              " 'Mar 14',\n",
              " 'Mar 17',\n",
              " 'Mar 18',\n",
              " 'Mar 25',\n",
              " 'Mar 26',\n",
              " 'Mar 31',\n",
              " 'Apr 04',\n",
              " 'Apr 06',\n",
              " 'Apr 12',\n",
              " 'Apr 27',\n",
              " 'Apr 30',\n",
              " 'May 02',\n",
              " 'May 02',\n",
              " 'May 03',\n",
              " 'May 07',\n",
              " 'May 07',\n",
              " 'May 16',\n",
              " 'May 21',\n",
              " 'May 23',\n",
              " 'May 31',\n",
              " 'Jun 03',\n",
              " 'Jun 14',\n",
              " 'Jun 18',\n",
              " 'Jun 20',\n",
              " 'Jun 24',\n",
              " 'Jun 24',\n",
              " 'Jun 25',\n",
              " 'Jul 05',\n",
              " 'Jul 11',\n",
              " 'Jul 11',\n",
              " 'Jul 20',\n",
              " 'Jul 31',\n",
              " 'Aug 05',\n",
              " 'Aug 06',\n",
              " 'Aug 13',\n",
              " 'Aug 25',\n",
              " 'Aug 31',\n",
              " 'Sept 02',\n",
              " 'Sept 07',\n",
              " 'Sept 12',\n",
              " 'Sept 14',\n",
              " 'Sept 17',\n",
              " 'Sept 18',\n",
              " 'Sept 29',\n",
              " 'Oct 04',\n",
              " 'Oct 15',\n",
              " 'Oct 16',\n",
              " 'Oct 18',\n",
              " 'Oct 19',\n",
              " 'Oct 19',\n",
              " 'Oct 20',\n",
              " 'Oct 22',\n",
              " 'Oct 25',\n",
              " 'Oct 26',\n",
              " 'Oct 27',\n",
              " 'Nov 01',\n",
              " 'Nov 04',\n",
              " 'Nov 05',\n",
              " 'Nov 07',\n",
              " 'Nov 08',\n",
              " 'Nov 10',\n",
              " 'Nov 10',\n",
              " 'Nov 11',\n",
              " 'Nov 11',\n",
              " 'Nov 12',\n",
              " 'Nov 13',\n",
              " 'Nov 14',\n",
              " 'Nov 15',\n",
              " 'Nov 15',\n",
              " 'Nov 16',\n",
              " 'Nov 17',\n",
              " 'Nov 20',\n",
              " 'Nov 22',\n",
              " 'Nov 24',\n",
              " 'Nov 27',\n",
              " 'Nov 28',\n",
              " 'Nov 29']"
            ]
          },
          "metadata": {
            "tags": []
          },
          "execution_count": 99
        }
      ]
    },
    {
      "cell_type": "code",
      "metadata": {
        "id": "iOTQLO03Kiwt",
        "colab_type": "code",
        "colab": {
          "base_uri": "https://localhost:8080/",
          "height": 265
        },
        "outputId": "8c878bd6-1338-4bf3-bd91-d751a20adfd6"
      },
      "source": [
        "plt.scatter(Y_sorted[:10], X_sorted[:10])\n",
        "#plt.tick_params(axis='x', which='major', labelsize=3)\n",
        "\n",
        "plt.show()"
      ],
      "execution_count": 109,
      "outputs": [
        {
          "output_type": "display_data",
          "data": {
            "image/png": "[encoded data removed]",
            "text/plain": [
              "<Figure size 432x288 with 1 Axes>"
            ]
          },
          "metadata": {
            "tags": []
          }
        }
      ]
    },
    {
      "cell_type": "code",
      "metadata": {
        "id": "ePsjdLlHLGSu",
        "colab_type": "code",
        "colab": {}
      },
      "source": [
        ""
      ],
      "execution_count": 0,
      "outputs": []
    }
  ]
}